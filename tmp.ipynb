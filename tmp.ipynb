{
 "cells": [
  {
   "cell_type": "code",
   "execution_count": 1,
   "metadata": {},
   "outputs": [],
   "source": [
    "import fire\n",
    "import torch\n",
    "from llama import Llama\n",
    "from typing import List\n",
    "from torchviz import make_dot\n",
    "\n",
    "ckpt_dir = \"/home/anyxling/llama2_weights/llama-2-7b/\"\n",
    "tokenizer_path = \"/home/anyxling/llama2_weights/tokenizer.model\"\n",
    "temperature: float = 0.6\n",
    "top_p: float = 0.9\n",
    "max_seq_len: int = 128\n",
    "max_gen_len: int = 64\n",
    "max_batch_size: int = 2"
   ]
  },
  {
   "cell_type": "code",
   "execution_count": 2,
   "metadata": {},
   "outputs": [],
   "source": [
    "import json\n",
    "from pathlib import Path\n",
    "from llama.model import ModelArgs, Transformer\n",
    "from llama.tokenizer import Tokenizer\n",
    "# generator = Llama.build(\n",
    "#     ckpt_dir=ckpt_dir,\n",
    "#     tokenizer_path=tokenizer_path,\n",
    "#     max_seq_len=max_seq_len,\n",
    "#     max_batch_size=max_batch_size,\n",
    "# )\n",
    "with open(Path(ckpt_dir) / \"params.json\", \"r\") as f:\n",
    "    params = json.loads(f.read())\n",
    "model_args: ModelArgs = ModelArgs(\n",
    "    max_seq_len=max_seq_len,\n",
    "    max_batch_size=max_batch_size,\n",
    "    **params,\n",
    ")\n",
    "# tokenizer = Tokenizer(model_path=tokenizer_path)\n",
    "model_args.vocab_size = 32000 # tokenizer.n_words\n",
    "model_args.n_layers = 5 # limit the parameters due to limited memory\n",
    "model = Transformer(model_args)\n",
    "model.eval()\n",
    "yhat = model(torch.randint(8, (2, 8), dtype=torch.long), 0)"
   ]
  },
  {
   "cell_type": "code",
   "execution_count": 3,
   "metadata": {},
   "outputs": [
    {
     "name": "stderr",
     "output_type": "stream",
     "text": [
      "ERROR:root:No traceback has been produced, nothing to debug.\n"
     ]
    }
   ],
   "source": [
    "%debug"
   ]
  },
  {
   "cell_type": "markdown",
   "metadata": {},
   "source": [
    "### export to onnx"
   ]
  },
  {
   "cell_type": "code",
   "execution_count": 4,
   "metadata": {},
   "outputs": [
    {
     "name": "stderr",
     "output_type": "stream",
     "text": [
      "/home/anyxling/lxl/lib/python3.12/site-packages/tqdm/auto.py:21: TqdmWarning: IProgress not found. Please update jupyter and ipywidgets. See https://ipywidgets.readthedocs.io/en/stable/user_install.html\n",
      "  from .autonotebook import tqdm as notebook_tqdm\n",
      "/home/anyxling/llama/llama/model.py:477: TracerWarning: Converting a tensor to a Python boolean might cause the trace to be incorrect. We can't record the data flow of Python values, so this value will be treated as a constant in the future. This means that the trace might not generalize to other inputs!\n",
      "  if seqlen > 1:\n"
     ]
    }
   ],
   "source": [
    "torch.onnx.export(model,\n",
    "    (torch.randint(8, (2, 8), dtype=torch.long), 0), \n",
    "    f=\"/home/anyxling/llama2_weights/llama-2-7b/consolidated.00.onnx\")"
   ]
  },
  {
   "cell_type": "code",
   "execution_count": null,
   "metadata": {},
   "outputs": [],
   "source": []
  }
 ],
 "metadata": {
  "kernelspec": {
   "display_name": "lxl",
   "language": "python",
   "name": "python3"
  },
  "language_info": {
   "codemirror_mode": {
    "name": "ipython",
    "version": 3
   },
   "file_extension": ".py",
   "mimetype": "text/x-python",
   "name": "python",
   "nbconvert_exporter": "python",
   "pygments_lexer": "ipython3",
   "version": "3.12.2"
  }
 },
 "nbformat": 4,
 "nbformat_minor": 2
}
